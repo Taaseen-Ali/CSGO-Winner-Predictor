{
 "cells": [
  {
   "cell_type": "code",
   "execution_count": null,
   "id": "98f5c30b-a8de-4229-9c17-4a9189e8af87",
   "metadata": {},
   "outputs": [],
   "source": [
    "import numpy as np\n",
    "import matplotlib\n",
    "import matplotlib.pyplot as plt\n",
    "import pandas as pd\n",
    "from sklearn import datasets, linear_model\n",
    "from sklearn.preprocessing import StandardScaler\n",
    "from sklearn.model_selection import train_test_split\n",
    "%matplotlib inline"
   ]
  },
  {
   "cell_type": "code",
   "execution_count": null,
   "id": "cedccfd2-1601-4ef3-9758-65462ef24702",
   "metadata": {},
   "outputs": [],
   "source": [
    "df = pd.read_csv('./economy.csv', low_memory=False) # load csv\n",
    "\n",
    "colnames = list(df.columns) # original colnames"
   ]
  },
  {
   "cell_type": "code",
   "execution_count": null,
   "id": "637ae3d5-a8cc-416e-9b6e-665f0a5f884f",
   "metadata": {},
   "outputs": [],
   "source": [
    "winners = df.T.apply(pd.Series.last_valid_index) \n",
    "# returns an array where each index represents the corresponding row of data and each value represents the last column that is not NaN (the last round with a winner)"
   ]
  },
  {
   "cell_type": "code",
   "execution_count": null,
   "id": "dc56eb46-e278-4bd1-8f44-c8db3415c9bb",
   "metadata": {},
   "outputs": [],
   "source": [
    "winners_col = [] # create the winners column\n",
    "winnerarr = np.array(winners) \n",
    "for i in range(df.shape[0]): # loop through all records of data\n",
    "    winners_col.append(df[winnerarr[i]][i]) # append whether team 1 won or team 2 won (winnerarr[i][i] returns 1 or 2)\n",
    "    #winners_col.append(df[\"team_\" + str(int(df[winnerarr[i]][i]))][i])"
   ]
  },
  {
   "cell_type": "code",
   "execution_count": null,
   "id": "a5a73b77-74ec-452e-9a90-a9289330fe87",
   "metadata": {},
   "outputs": [],
   "source": [
    "df['match_winner'] = winners_col # append new column to data"
   ]
  },
  {
   "cell_type": "code",
   "execution_count": null,
   "id": "f18c3ed8-c45b-4749-850d-9958e4e93412",
   "metadata": {},
   "outputs": [],
   "source": [
    "round_win_col_names = ['1_winner',\n",
    " '2_winner',\n",
    " '3_winner',\n",
    " '4_winner',\n",
    " '5_winner',\n",
    " '6_winner',\n",
    " '7_winner',\n",
    " '8_winner',\n",
    " '9_winner',\n",
    " '10_winner',\n",
    " '11_winner',\n",
    " '12_winner',\n",
    " '13_winner',\n",
    " '14_winner',\n",
    " '15_winner',\n",
    " '16_winner',\n",
    " '17_winner',\n",
    " '18_winner',\n",
    " '19_winner',\n",
    " '20_winner',\n",
    " '21_winner',\n",
    " '22_winner',\n",
    " '23_winner',\n",
    " '24_winner',\n",
    " '25_winner',\n",
    " '26_winner',\n",
    " '27_winner',\n",
    " '28_winner',\n",
    " '29_winner',\n",
    " '30_winner']\n",
    "# We dont need these columns anymore"
   ]
  },
  {
   "cell_type": "code",
   "execution_count": null,
   "id": "a3d44122-2290-46b5-989a-15363e0a9d95",
   "metadata": {},
   "outputs": [],
   "source": [
    "df = df.drop(columns=round_win_col_names) # drop round winner columns"
   ]
  },
  {
   "cell_type": "code",
   "execution_count": null,
   "id": "d4ac32f8-364e-469e-85a7-627647708412",
   "metadata": {},
   "outputs": [],
   "source": [
    "df = df.drop(columns=[\"best_of\", \"date\", \"t2_start\"])\n",
    "df = df.drop(columns=[\"match_id\", \"event_id\"])\n",
    "\n",
    "# drops rounds past halftime\n",
    "droprounds = ['16_t1', '17_t1', '18_t1', '19_t1', '20_t1', '21_t1', '22_t1', '23_t1', '24_t1', '25_t1', '26_t1', '27_t1', '28_t1', '29_t1', '30_t1', '16_t2', '17_t2', '18_t2', '19_t2', '20_t2', '21_t2', '22_t2', '23_t2', '24_t2', '25_t2', '26_t2', '27_t2', '28_t2', '29_t2', '30_t2']\n",
    "df = df.drop(columns=droprounds)"
   ]
  },
  {
   "cell_type": "code",
   "execution_count": null,
   "id": "e5cc69a3-c240-4210-b5b1-ceda366f7e98",
   "metadata": {},
   "outputs": [],
   "source": [
    "df.head(6)"
   ]
  },
  {
   "cell_type": "code",
   "execution_count": null,
   "id": "01c6a833-b89b-4052-a6f1-a5cab36ce0dc",
   "metadata": {},
   "outputs": [],
   "source": [
    "colnames = list(df.columns) # colnames is column names of new df"
   ]
  },
  {
   "cell_type": "code",
   "execution_count": null,
   "id": "6e2c5e0c-0bfd-4428-ae2b-0f3699d3d0b7",
   "metadata": {},
   "outputs": [],
   "source": [
    "#print(colnames)\n",
    "xnames = colnames[:len(colnames) - 1] # all features except for last column\n",
    "#print(xnames)\n",
    "X = df[xnames]\n",
    "\n",
    "set_of_teams = set(list(X['team_1']) + list(X['team_2'])) # creates a unique list of teams found in dataset\n",
    "team_to_num = dict(zip(set_of_teams, range(len(set_of_teams)))) # hashtable - key = name of team, value = number\n",
    "\n",
    "#Replace team's name with their number\n",
    "X['team_1'] = X['team_1'].replace(team_to_num)\n",
    "X['team_2'] = X['team_2'].replace(team_to_num)\n",
    "y = df[\"match_winner\"].replace(team_to_num)\n",
    "\n",
    "#t1_start and t2_start are either t or ct. We dropped t2_start because we can infer what t2 will be if we know what side t1 started on\n",
    "#Converts t1_start to binary. 1 if they started as a t, 0 if they started as ct\n",
    "X['t1_t'] = X['t1_start'].apply(lambda x: 1 if x == 't' else 0)\n",
    "X = X.drop('t1_start', axis=1)\n",
    "\n",
    "#Replace map names with numbers\n",
    "map_to_num = dict(zip(X['_map'].unique(), range(len(X['_map'].unique()))))\n",
    "X['_map'] = X['_map'].replace(map_to_num)\n",
    "\n",
    "X # show X"
   ]
  },
  {
   "cell_type": "code",
   "execution_count": null,
   "id": "003a524e-9b5f-467a-867a-87455956c75b",
   "metadata": {},
   "outputs": [],
   "source": [
    "y # show y"
   ]
  },
  {
   "cell_type": "code",
   "execution_count": null,
   "id": "c1149453-3512-485f-8089-977c124e0e7d",
   "metadata": {},
   "outputs": [],
   "source": [
    "X_train, X_test, y_train, y_test = train_test_split(X, y, random_state=0)\n",
    "\n",
    "# is this the right way to scale?\n",
    "scaler = StandardScaler()\n",
    "X_train= scaler.fit_transform(X_train)\n",
    "X_test = scaler.transform(X_test)"
   ]
  }
 ],
 "metadata": {
  "kernelspec": {
   "display_name": "Python 3",
   "language": "python",
   "name": "python3"
  },
  "language_info": {
   "codemirror_mode": {
    "name": "ipython",
    "version": 3
   },
   "file_extension": ".py",
   "mimetype": "text/x-python",
   "name": "python",
   "nbconvert_exporter": "python",
   "pygments_lexer": "ipython3",
   "version": "3.9.0"
  }
 },
 "nbformat": 4,
 "nbformat_minor": 5
}
