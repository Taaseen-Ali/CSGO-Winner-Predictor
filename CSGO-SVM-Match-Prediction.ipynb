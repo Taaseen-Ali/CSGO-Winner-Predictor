{
 "cells": [
  {
   "cell_type": "markdown",
   "id": "ee57f1d4",
   "metadata": {},
   "source": [
    "# CSGO Match Prediction With SVMs"
   ]
  },
  {
   "cell_type": "code",
   "execution_count": 230,
   "id": "98f5c30b-a8de-4229-9c17-4a9189e8af87",
   "metadata": {},
   "outputs": [],
   "source": [
    "import numpy as np\n",
    "import matplotlib\n",
    "import matplotlib.pyplot as plt\n",
    "import pandas as pd\n",
    "from sklearn import datasets, linear_model\n",
    "from sklearn.preprocessing import StandardScaler\n",
    "from sklearn.model_selection import train_test_split\n",
    "%matplotlib inline"
   ]
  },
  {
   "cell_type": "markdown",
   "id": "5020e5e7",
   "metadata": {},
   "source": [
    "## Load and restructure data"
   ]
  },
  {
   "cell_type": "code",
   "execution_count": 231,
   "id": "cedccfd2-1601-4ef3-9758-65462ef24702",
   "metadata": {},
   "outputs": [],
   "source": [
    "df = pd.read_csv('./economy.csv', low_memory=False) # load csv\n",
    "colnames = list(df.columns) # original colnames"
   ]
  },
  {
   "cell_type": "markdown",
   "id": "90573243",
   "metadata": {},
   "source": [
    "In CSGO, a match is finished when either team wins 15 rounds. This means that a match can anywhere between 15 to 30 rounds. We remove unplayed rounds in this step"
   ]
  },
  {
   "cell_type": "code",
   "execution_count": 232,
   "id": "637ae3d5-a8cc-416e-9b6e-665f0a5f884f",
   "metadata": {
    "scrolled": true
   },
   "outputs": [],
   "source": [
    "# Returns an array where each element represents the\n",
    "# last non null column in that row\n",
    "winners = df.T.apply(pd.Series.last_valid_index)"
   ]
  },
  {
   "cell_type": "markdown",
   "id": "86111da3",
   "metadata": {},
   "source": [
    "The target feature—the team that won the match—is appended to the dataset by going through each row and recording which team won the last round that was played. Since no extra rounds are played after the 15 round quota is reached, a team that wins the last round that is played is also the team that wins the entire match."
   ]
  },
  {
   "cell_type": "code",
   "execution_count": 233,
   "id": "dc56eb46-e278-4bd1-8f44-c8db3415c9bb",
   "metadata": {},
   "outputs": [],
   "source": [
    "winners_col = [] \n",
    "winnerarr = np.array(winners) \n",
    "\n",
    "# loop through all records of data\n",
    "for i in range(df.shape[0]): \n",
    "    # append whether team 1 won or team 2 won (winnerarr[i][i] returns 1 or 2)\n",
    "    winners_col.append(df[winnerarr[i]][i]) \n",
    "\n",
    "# append new column to data\n",
    "df['match_winner'] = winners_col "
   ]
  },
  {
   "cell_type": "code",
   "execution_count": 234,
   "id": "f18c3ed8-c45b-4749-850d-9958e4e93412",
   "metadata": {},
   "outputs": [],
   "source": [
    "# We dont need these columns anymore\n",
    "round_win_col_names = [\n",
    " '16_winner',\n",
    " '17_winner',\n",
    " '18_winner',\n",
    " '19_winner',\n",
    " '20_winner',\n",
    " '21_winner',\n",
    " '22_winner',\n",
    " '23_winner',\n",
    " '24_winner',\n",
    " '25_winner',\n",
    " '26_winner',\n",
    " '27_winner',\n",
    " '28_winner',\n",
    " '29_winner',\n",
    " '30_winner']\n",
    "\n",
    "# drop round winner columns\n",
    "df = df.drop(columns=round_win_col_names) \n",
    "\n",
    "# drop unecessary columns\n",
    "df = df.drop(columns=[\"best_of\", \"date\", \"t2_start\"])\n",
    "df = df.drop(columns=[\"match_id\", \"event_id\"])\n",
    "\n",
    "# drops rounds past halftime\n",
    "droprounds = ['16_t1', '17_t1', '18_t1', '19_t1', '20_t1', '21_t1', '22_t1', '23_t1', '24_t1', '25_t1', '26_t1', '27_t1', '28_t1', '29_t1', '30_t1', '16_t2', '17_t2', '18_t2', '19_t2', '20_t2', '21_t2', '22_t2', '23_t2', '24_t2', '25_t2', '26_t2', '27_t2', '28_t2', '29_t2', '30_t2']\n",
    "df = df.drop(columns=droprounds)"
   ]
  },
  {
   "cell_type": "markdown",
   "id": "bc36f428",
   "metadata": {},
   "source": [
    "Next, the non-numerical features are encoded into more useful forms. The team names (`team_1` and `team_2`) and map names (`_map`) are converted from strings into unique integer values. Team starting side data is encoded as a single feature (`t1_t`) which is a boolean value set to 1 if `team_1` in the row is starting on the terrorist side."
   ]
  },
  {
   "cell_type": "code",
   "execution_count": 235,
   "id": "6e2c5e0c-0bfd-4428-ae2b-0f3699d3d0b7",
   "metadata": {
    "scrolled": true
   },
   "outputs": [
    {
     "name": "stderr",
     "output_type": "stream",
     "text": [
      "/var/folders/34/wwdjpw3x60scvghx_lqvyv440000gp/T/ipykernel_57743/1673657415.py:11: SettingWithCopyWarning: \n",
      "A value is trying to be set on a copy of a slice from a DataFrame.\n",
      "Try using .loc[row_indexer,col_indexer] = value instead\n",
      "\n",
      "See the caveats in the documentation: https://pandas.pydata.org/pandas-docs/stable/user_guide/indexing.html#returning-a-view-versus-a-copy\n",
      "  X['team_1'] = X['team_1'].replace(team_to_num)\n",
      "/var/folders/34/wwdjpw3x60scvghx_lqvyv440000gp/T/ipykernel_57743/1673657415.py:12: SettingWithCopyWarning: \n",
      "A value is trying to be set on a copy of a slice from a DataFrame.\n",
      "Try using .loc[row_indexer,col_indexer] = value instead\n",
      "\n",
      "See the caveats in the documentation: https://pandas.pydata.org/pandas-docs/stable/user_guide/indexing.html#returning-a-view-versus-a-copy\n",
      "  X['team_2'] = X['team_2'].replace(team_to_num)\n"
     ]
    }
   ],
   "source": [
    "colnames = list(df.columns) # colnames is column names of new df\n",
    "xnames = colnames[:len(colnames) - 1] # all features except for last column\n",
    "\n",
    "# these are the features we will train on\n",
    "X = df[xnames]\n",
    "\n",
    "set_of_teams = set(list(X['team_1']) + list(X['team_2'])) # creates a unique list of teams found in dataset\n",
    "team_to_num = dict(zip(set_of_teams, range(len(set_of_teams)))) # hashtable - key = name of team, value = number\n",
    "\n",
    "#Replace team's name with their number\n",
    "X['team_1'] = X['team_1'].replace(team_to_num)\n",
    "X['team_2'] = X['team_2'].replace(team_to_num)\n",
    "Y = df[\"match_winner\"].replace(team_to_num)\n",
    "\n",
    "#t1_start and t2_start are either t or ct. We dropped t2_start because we can infer what t2 will be if we know what side t1 started on\n",
    "#Converts t1_start to binary. 1 if they started as a t, 0 if they started as ct\n",
    "X['t1_t'] = X['t1_start'].apply(lambda x: 1 if x == 't' else 0)\n",
    "X = X.drop('t1_start', axis=1)\n",
    "\n",
    "#Replace map names with numbers\n",
    "map_to_num = dict(zip(X['_map'].unique(), range(len(X['_map'].unique()))))\n",
    "X['_map'] = X['_map'].replace(map_to_num)\n"
   ]
  },
  {
   "cell_type": "markdown",
   "id": "09197d2a",
   "metadata": {},
   "source": [
    "This is what the feature matrix looks after all of the preprocessing"
   ]
  },
  {
   "cell_type": "code",
   "execution_count": 236,
   "id": "d028cab7",
   "metadata": {
    "scrolled": true
   },
   "outputs": [
    {
     "data": {
      "text/html": [
       "<div>\n",
       "<style scoped>\n",
       "    .dataframe tbody tr th:only-of-type {\n",
       "        vertical-align: middle;\n",
       "    }\n",
       "\n",
       "    .dataframe tbody tr th {\n",
       "        vertical-align: top;\n",
       "    }\n",
       "\n",
       "    .dataframe thead th {\n",
       "        text-align: right;\n",
       "    }\n",
       "</style>\n",
       "<table border=\"1\" class=\"dataframe\">\n",
       "  <thead>\n",
       "    <tr style=\"text-align: right;\">\n",
       "      <th></th>\n",
       "      <th>team_1</th>\n",
       "      <th>team_2</th>\n",
       "      <th>_map</th>\n",
       "      <th>1_t1</th>\n",
       "      <th>2_t1</th>\n",
       "      <th>3_t1</th>\n",
       "      <th>4_t1</th>\n",
       "      <th>5_t1</th>\n",
       "      <th>6_t1</th>\n",
       "      <th>7_t1</th>\n",
       "      <th>...</th>\n",
       "      <th>7_winner</th>\n",
       "      <th>8_winner</th>\n",
       "      <th>9_winner</th>\n",
       "      <th>10_winner</th>\n",
       "      <th>11_winner</th>\n",
       "      <th>12_winner</th>\n",
       "      <th>13_winner</th>\n",
       "      <th>14_winner</th>\n",
       "      <th>15_winner</th>\n",
       "      <th>t1_t</th>\n",
       "    </tr>\n",
       "  </thead>\n",
       "  <tbody>\n",
       "    <tr>\n",
       "      <th>0</th>\n",
       "      <td>2202</td>\n",
       "      <td>341</td>\n",
       "      <td>0</td>\n",
       "      <td>4350.0</td>\n",
       "      <td>1100.0</td>\n",
       "      <td>22100.0</td>\n",
       "      <td>9350.0</td>\n",
       "      <td>25750.0</td>\n",
       "      <td>10400.0</td>\n",
       "      <td>24600.0</td>\n",
       "      <td>...</td>\n",
       "      <td>2.0</td>\n",
       "      <td>2.0</td>\n",
       "      <td>1.0</td>\n",
       "      <td>2.0</td>\n",
       "      <td>2.0</td>\n",
       "      <td>2.0</td>\n",
       "      <td>2.0</td>\n",
       "      <td>2.0</td>\n",
       "      <td>2.0</td>\n",
       "      <td>1</td>\n",
       "    </tr>\n",
       "    <tr>\n",
       "      <th>1</th>\n",
       "      <td>2202</td>\n",
       "      <td>341</td>\n",
       "      <td>1</td>\n",
       "      <td>3900.0</td>\n",
       "      <td>7400.0</td>\n",
       "      <td>23250.0</td>\n",
       "      <td>28500.0</td>\n",
       "      <td>31900.0</td>\n",
       "      <td>31700.0</td>\n",
       "      <td>18950.0</td>\n",
       "      <td>...</td>\n",
       "      <td>2.0</td>\n",
       "      <td>1.0</td>\n",
       "      <td>1.0</td>\n",
       "      <td>2.0</td>\n",
       "      <td>2.0</td>\n",
       "      <td>2.0</td>\n",
       "      <td>2.0</td>\n",
       "      <td>2.0</td>\n",
       "      <td>2.0</td>\n",
       "      <td>0</td>\n",
       "    </tr>\n",
       "    <tr>\n",
       "      <th>2</th>\n",
       "      <td>2202</td>\n",
       "      <td>341</td>\n",
       "      <td>2</td>\n",
       "      <td>4150.0</td>\n",
       "      <td>14300.0</td>\n",
       "      <td>2000.0</td>\n",
       "      <td>24800.0</td>\n",
       "      <td>9000.0</td>\n",
       "      <td>23150.0</td>\n",
       "      <td>21850.0</td>\n",
       "      <td>...</td>\n",
       "      <td>1.0</td>\n",
       "      <td>2.0</td>\n",
       "      <td>2.0</td>\n",
       "      <td>2.0</td>\n",
       "      <td>2.0</td>\n",
       "      <td>2.0</td>\n",
       "      <td>2.0</td>\n",
       "      <td>2.0</td>\n",
       "      <td>2.0</td>\n",
       "      <td>1</td>\n",
       "    </tr>\n",
       "    <tr>\n",
       "      <th>3</th>\n",
       "      <td>341</td>\n",
       "      <td>1830</td>\n",
       "      <td>1</td>\n",
       "      <td>4150.0</td>\n",
       "      <td>18050.0</td>\n",
       "      <td>21000.0</td>\n",
       "      <td>25850.0</td>\n",
       "      <td>25000.0</td>\n",
       "      <td>25000.0</td>\n",
       "      <td>27250.0</td>\n",
       "      <td>...</td>\n",
       "      <td>1.0</td>\n",
       "      <td>1.0</td>\n",
       "      <td>1.0</td>\n",
       "      <td>1.0</td>\n",
       "      <td>1.0</td>\n",
       "      <td>1.0</td>\n",
       "      <td>1.0</td>\n",
       "      <td>1.0</td>\n",
       "      <td>1.0</td>\n",
       "      <td>1</td>\n",
       "    </tr>\n",
       "    <tr>\n",
       "      <th>4</th>\n",
       "      <td>341</td>\n",
       "      <td>1830</td>\n",
       "      <td>0</td>\n",
       "      <td>4200.0</td>\n",
       "      <td>10000.0</td>\n",
       "      <td>22000.0</td>\n",
       "      <td>24500.0</td>\n",
       "      <td>27550.0</td>\n",
       "      <td>29350.0</td>\n",
       "      <td>31950.0</td>\n",
       "      <td>...</td>\n",
       "      <td>2.0</td>\n",
       "      <td>1.0</td>\n",
       "      <td>1.0</td>\n",
       "      <td>1.0</td>\n",
       "      <td>1.0</td>\n",
       "      <td>1.0</td>\n",
       "      <td>1.0</td>\n",
       "      <td>1.0</td>\n",
       "      <td>1.0</td>\n",
       "      <td>0</td>\n",
       "    </tr>\n",
       "  </tbody>\n",
       "</table>\n",
       "<p>5 rows × 49 columns</p>\n",
       "</div>"
      ],
      "text/plain": [
       "   team_1  team_2  _map    1_t1     2_t1     3_t1     4_t1     5_t1     6_t1  \\\n",
       "0    2202     341     0  4350.0   1100.0  22100.0   9350.0  25750.0  10400.0   \n",
       "1    2202     341     1  3900.0   7400.0  23250.0  28500.0  31900.0  31700.0   \n",
       "2    2202     341     2  4150.0  14300.0   2000.0  24800.0   9000.0  23150.0   \n",
       "3     341    1830     1  4150.0  18050.0  21000.0  25850.0  25000.0  25000.0   \n",
       "4     341    1830     0  4200.0  10000.0  22000.0  24500.0  27550.0  29350.0   \n",
       "\n",
       "      7_t1  ...  7_winner  8_winner  9_winner  10_winner  11_winner  \\\n",
       "0  24600.0  ...       2.0       2.0       1.0        2.0        2.0   \n",
       "1  18950.0  ...       2.0       1.0       1.0        2.0        2.0   \n",
       "2  21850.0  ...       1.0       2.0       2.0        2.0        2.0   \n",
       "3  27250.0  ...       1.0       1.0       1.0        1.0        1.0   \n",
       "4  31950.0  ...       2.0       1.0       1.0        1.0        1.0   \n",
       "\n",
       "   12_winner  13_winner  14_winner  15_winner  t1_t  \n",
       "0        2.0        2.0        2.0        2.0     1  \n",
       "1        2.0        2.0        2.0        2.0     0  \n",
       "2        2.0        2.0        2.0        2.0     1  \n",
       "3        1.0        1.0        1.0        1.0     1  \n",
       "4        1.0        1.0        1.0        1.0     0  \n",
       "\n",
       "[5 rows x 49 columns]"
      ]
     },
     "execution_count": 236,
     "metadata": {},
     "output_type": "execute_result"
    }
   ],
   "source": [
    "X.head()"
   ]
  },
  {
   "cell_type": "markdown",
   "id": "94fb3557",
   "metadata": {},
   "source": [
    "and this is what the output matrix looks like"
   ]
  },
  {
   "cell_type": "code",
   "execution_count": 237,
   "id": "65c634d7",
   "metadata": {},
   "outputs": [
    {
     "data": {
      "text/plain": [
       "0    2.0\n",
       "1    2.0\n",
       "2    2.0\n",
       "3    1.0\n",
       "4    1.0\n",
       "Name: match_winner, dtype: float64"
      ]
     },
     "execution_count": 237,
     "metadata": {},
     "output_type": "execute_result"
    }
   ],
   "source": [
    "y.head()"
   ]
  },
  {
   "cell_type": "markdown",
   "id": "8131dce5",
   "metadata": {},
   "source": [
    "Finally, the processed dataset is randomly split into training and validation sets."
   ]
  },
  {
   "cell_type": "code",
   "execution_count": 238,
   "id": "c1149453-3512-485f-8089-977c124e0e7d",
   "metadata": {},
   "outputs": [],
   "source": [
    "X_train, X_test, Y_train, Y_test = train_test_split(X, y, random_state=0)\n",
    "\n",
    "scaler = StandardScaler()\n",
    "X_train= scaler.fit_transform(X_train)\n",
    "X_test = scaler.transform(X_test)"
   ]
  },
  {
   "cell_type": "markdown",
   "id": "8d99429d",
   "metadata": {},
   "source": [
    "# Support Vector Machines (SVM)\n",
    "Now various support vector machine models will be fit to the dataset. Linear, radial basis function, and polynomial kernel are all tried with various weights for the hinge loss. "
   ]
  },
  {
   "cell_type": "code",
   "execution_count": 239,
   "id": "1e51c082",
   "metadata": {},
   "outputs": [],
   "source": [
    "training_acc_history = []"
   ]
  },
  {
   "cell_type": "code",
   "execution_count": 240,
   "id": "7e7d73b2",
   "metadata": {},
   "outputs": [],
   "source": [
    "testing_acc_history = []"
   ]
  },
  {
   "cell_type": "code",
   "execution_count": 241,
   "id": "e7b15a2f",
   "metadata": {},
   "outputs": [],
   "source": [
    "c_svm_linear = []"
   ]
  },
  {
   "cell_type": "code",
   "execution_count": 242,
   "id": "4b04db97",
   "metadata": {},
   "outputs": [],
   "source": [
    "cVals = [0, 0.001, 0.01, 0.1, 1]\n",
    "polyCVals = [0] + np.geomspace(0.000001, 0.001, 5)"
   ]
  },
  {
   "cell_type": "code",
   "execution_count": 243,
   "id": "70619373",
   "metadata": {},
   "outputs": [],
   "source": [
    "from sklearn import svm\n",
    "\n",
    "def fit_svm(x, y, c, kernel):\n",
    "    # Create an SVM object\n",
    "    svc = svm.SVC(probability = False, kernel=kernel, C = c)\n",
    "    \n",
    "    print(\"Fitting SVM with %s kernel and c = %f\" % (kernel, c))\n",
    "\n",
    "    # Fit the classifier on the training set\n",
    "    svc.fit(x, y)\n",
    "    return svc\n",
    "\n",
    "def get_svm_accuracy(fitted_svm, x, y):\n",
    "    accuracy = np.mean(fitted_svm.predict(x) == y)\n",
    "    return accuracy\n",
    "\n",
    "def test_svm(kernel, x_train, y_train, x_test, y_test, cVals=[0.001, 0.01, 0.1, 1]):\n",
    "    testing_acc_history = []\n",
    "    training_acc_history = []\n",
    "    for c in cVals:    \n",
    "        fit_svm(X_train, Y_train, c, kernel)\n",
    "        training_acc = get_svm_accuracy(fitted_svm, x_train, y_train)\n",
    "        testing_acc = get_svm_accuracy(fitted_svm, x_test, y_test)\n",
    "\n",
    "        print(\"Training accuracy: %f\" % training_acc)\n",
    "        print(\"Testing accuracy: %f\" % testing_acc)\n",
    "\n",
    "        training_acc_history.append(training_acc)\n",
    "        testing_acc_history.append(testing_acc)\n",
    "    return training_acc_history, testing_acc_history\n",
    "\n",
    "def plot_acc_vs_cval(cvals, values, title):\n",
    "    plt.title(title)\n",
    "    for yVals in values:\n",
    "        plt.plot(cvals, yVals)\n",
    "    plt.ylabel(\"Accuracy\")\n",
    "    plt.xlabel(\"C Vals\")\n",
    "    plt.legend(['Training Accuracy', 'Test Accuracy'], loc='upper right')\n",
    "    plt.show()"
   ]
  },
  {
   "cell_type": "code",
   "execution_count": 123,
   "id": "d1a5b9f4",
   "metadata": {
    "scrolled": false
   },
   "outputs": [
    {
     "name": "stdout",
     "output_type": "stream",
     "text": [
      "Fitting SVM with c = 0.000001\n",
      "Training accuracy: 0.775420\n",
      "Testing accuracy: 0.775187\n",
      "Fitting SVM with c = 0.000006\n",
      "Training accuracy: 0.775420\n",
      "Testing accuracy: 0.775187\n",
      "Fitting SVM with c = 0.000032\n",
      "Training accuracy: 0.775420\n",
      "Testing accuracy: 0.775187\n",
      "Fitting SVM with c = 0.000178\n",
      "Training accuracy: 0.775420\n",
      "Testing accuracy: 0.775187\n",
      "Fitting SVM with c = 0.001000\n",
      "Training accuracy: 0.775420\n",
      "Testing accuracy: 0.775187\n"
     ]
    },
    {
     "data": {
      "image/png": "[encoded data removed]",
      "text/plain": [
       "<Figure size 432x288 with 1 Axes>"
      ]
     },
     "metadata": {
      "needs_background": "light"
     },
     "output_type": "display_data"
    }
   ],
   "source": [
    "#linear = test_svm(\"linear\", X_train, Y_train, X_test, Y_test)\n",
    "#rbf = test_svm(\"rbf\", X_train, Y_train, X_test, Y_test)\n",
    "poly = test_svm(\"poly\", X_train, Y_train, X_test, Y_test, cVals = polyCVals)\n",
    "#plot_acc_vs_cval(cVals, linear, \"C vs Linear Kernal SVM\")\n",
    "#plot_acc_vs_cval(cVals, rbf, \"C vs RBF Kernal SVM\")\n",
    "plot_acc_vs_cval(polyCVals, poly, \"C vs Polynomial Kernal SVM\")"
   ]
  },
  {
   "cell_type": "markdown",
   "id": "1971f650",
   "metadata": {},
   "source": [
    "## One-hot encoding the team names"
   ]
  },
  {
   "cell_type": "markdown",
   "id": "46a52035",
   "metadata": {},
   "source": [
    "An attempt is made to increase the test accuracy by one-hot encoding the team names. The motivation for doing so lies in the fact that different teams likely perform differently and independent of other teams. Therefore, encoding the team names as a linear value may be unecessarily..."
   ]
  },
  {
   "cell_type": "code",
   "execution_count": 244,
   "id": "d670ad38",
   "metadata": {},
   "outputs": [],
   "source": [
    "# Convert the team names back into strings again\n",
    "num_to_team = dict(zip(range(len(set_of_teams)), set_of_teams))\n",
    "all_teams = [num_to_team[i] for i in range(len(set_of_teams))]\n",
    "\n",
    "# Extract the team data from the original DataFrame\n",
    "team_1_arr = np.array(X[\"team_1\"])\n",
    "team_2_arr = np.array(X[\"team_2\"])\n",
    "\n",
    "# Create the one-hot vectors for each row of the data, one for each team\n",
    "one_hot_t1 = np.zeros((team_1_arr.size, len(num_to_team)))\n",
    "one_hot_t1[np.arange(team_1_arr.size), team_1_arr] = 1\n",
    "\n",
    "one_hot_t2 = np.zeros((team_2_arr.size, len(num_to_team)))\n",
    "one_hot_t2[np.arange(team_2_arr.size), team_2_arr] = 1\n",
    "\n",
    "# Combine the matrix of one-hot vectors for team_1 and team_2 together to create a single matrix\n",
    "one_hot = np.hstack((one_hot_t1, one_hot_t2))\n",
    "\n",
    "# Turn the numpy array into a pandas DataFrame and add it to the dataset\n",
    "one_hot_df = pd.DataFrame(one_hot, columns = [\"team_1_%s\" %(i) for i in all_teams] + [\"team_2_%s\" %(i) for i in all_teams])\n",
    "X = X.drop(columns = [\"team_1\", \"team_2\"])\n",
    "X = X.join(one_hot_df)\n"
   ]
  },
  {
   "cell_type": "markdown",
   "id": "7c116331",
   "metadata": {},
   "source": [
    "Once again, the data has is split into training and validation sets"
   ]
  },
  {
   "cell_type": "code",
   "execution_count": 245,
   "id": "0ee886c8",
   "metadata": {},
   "outputs": [],
   "source": [
    "X_train, X_test, Y_train, Y_test = train_test_split(X, y, random_state=0)\n",
    "\n",
    "scaler = StandardScaler()\n",
    "X_train= scaler.fit_transform(X_train)\n",
    "X_test = scaler.transform(X_test)"
   ]
  },
  {
   "cell_type": "markdown",
   "id": "95957176",
   "metadata": {},
   "source": [
    "And run again through multiple SVMs with varying C values and kernel types"
   ]
  },
  {
   "cell_type": "code",
   "execution_count": null,
   "id": "f4e8ac0c",
   "metadata": {},
   "outputs": [
    {
     "name": "stdout",
     "output_type": "stream",
     "text": [
      "Fitting SVM with linear kernel and c = 0.001000\n"
     ]
    }
   ],
   "source": [
    "linear = test_svm(\"linear\", X_train, Y_train, X_test, Y_test)\n",
    "rbf = test_svm(\"rbf\", X_train, Y_train, X_test, Y_test)\n",
    "poly = test_svm(\"poly\", X_train, Y_train, X_test, Y_test, cVals = polyCVals)\n",
    "plot_acc_vs_cval(cVals, linear, \"C vs Linear Kernal SVM\")\n",
    "plot_acc_vs_cval(cVals, rbf, \"C vs RBF Kernal SVM\")\n",
    "plot_acc_vs_cval(polyCVals, poly, \"C vs Polynomial Kernal SVM\")"
   ]
  },
  {
   "cell_type": "code",
   "execution_count": null,
   "id": "3e9259b3",
   "metadata": {},
   "outputs": [],
   "source": [
    "# Ideas to try\n",
    "# ============\n",
    "# - higher learning rate, higher c, with one hot encoding\n",
    "# - polyfit with no one-hot\n",
    "# - polyfit with one hot\n",
    "# - psuedo one-hot encoding vs summing winner data\n"
   ]
  }
 ],
 "metadata": {
  "kernelspec": {
   "display_name": "Python 3 (ipykernel)",
   "language": "python",
   "name": "python3"
  },
  "language_info": {
   "codemirror_mode": {
    "name": "ipython",
    "version": 3
   },
   "file_extension": ".py",
   "mimetype": "text/x-python",
   "name": "python",
   "nbconvert_exporter": "python",
   "pygments_lexer": "ipython3",
   "version": "3.8.5"
  }
 },
 "nbformat": 4,
 "nbformat_minor": 5
}
